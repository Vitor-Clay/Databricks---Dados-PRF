{
 "cells": [
  {
   "cell_type": "markdown",
   "metadata": {
    "application/vnd.databricks.v1+cell": {
     "cellMetadata": {
      "byteLimit": 2048000,
      "rowLimit": 10000
     },
     "inputWidgets": {},
     "nuid": "b8f6ebb2-bd1f-472b-9df9-3315acf55566",
     "showTitle": false,
     "tableResultSettingsMap": {},
     "title": ""
    }
   },
   "source": [
    "### Gold (Delta) Layer: Creating Facts and Dimensions\n",
    "\n",
    "### Camada Gold (Delta): Criação de Fato e Dimensões (PT-BR)"
   ]
  },
  {
   "cell_type": "code",
   "execution_count": 0,
   "metadata": {
    "application/vnd.databricks.v1+cell": {
     "cellMetadata": {
      "byteLimit": 2048000,
      "rowLimit": 10000
     },
     "inputWidgets": {},
     "nuid": "a6398c78-3c20-4556-879c-1a7d68216bcd",
     "showTitle": false,
     "tableResultSettingsMap": {},
     "title": ""
    }
   },
   "outputs": [],
   "source": [
    "from pyspark.sql import SparkSession\n",
    "from pyspark.sql.functions import row_number\n",
    "from pyspark.sql.window import Window\n",
    "from pyspark.sql import functions as F\n",
    "\n",
    "\n",
    "# Create a SparkSession with the required configurations for Delta Lake\n",
    "# Create a SparkSession with the required configurations for Delta Lake(PT-BR)\n",
    "\n",
    "spark = SparkSession.builder \\\n",
    "    .appName(\"Carga Delta\") \\\n",
    "    .config(\"spark.sql.extensions\", \"io.delta.sql.DeltaSparkSessionExtension\") \\\n",
    "    .config(\"spark.sql.catalog.spark_catalog\", \"org.apache.spark.sql.delta.catalog.DeltaCatalog\") \\\n",
    "    .getOrCreate()"
   ]
  },
  {
   "cell_type": "code",
   "execution_count": 0,
   "metadata": {
    "application/vnd.databricks.v1+cell": {
     "cellMetadata": {
      "byteLimit": 2048000,
      "rowLimit": 10000
     },
     "inputWidgets": {},
     "nuid": "323ae8a3-5aa0-43ef-bbbf-ffcc462406f1",
     "showTitle": false,
     "tableResultSettingsMap": {},
     "title": ""
    }
   },
   "outputs": [],
   "source": [
    "# Define storage paths in the Data Lake\n",
    "\n",
    "# Define os caminhos de armazenamento no Data Lake(PT-BR)\n",
    "\n",
    "silver_path = \"/mnt/lhdw/layer_silver/detran2025\" \n",
    "gold_path_tempo = \"/mnt/lhdw/layer_gold/dim_tempo\"\n",
    "gold_path_localizacao = \"/mnt/lhdw/layer_gold/dim_Localizacao\"\n",
    "gold_path_orgaos = \"/mnt/lhdw/layer_gold/dim_orgaos\"\n",
    "gold_path_caracteristicas = \"/mnt/lhdw/layer_gold/dim_caracteristicas\"\n",
    "gold_path_geo = \"/mnt/lhdw/layer_gold/dim_geo\" \n",
    "gold_path_fato = \"/mnt/lhdw/layer_gold/fato_acidentes\""
   ]
  },
  {
   "cell_type": "markdown",
   "metadata": {
    "application/vnd.databricks.v1+cell": {
     "cellMetadata": {
      "byteLimit": 2048000,
      "rowLimit": 10000
     },
     "inputWidgets": {},
     "nuid": "f11773cb-554d-4c0c-910e-5e8361cc4fbe",
     "showTitle": false,
     "tableResultSettingsMap": {},
     "title": ""
    }
   },
   "source": [
    "### Read Silver Layer Data\n",
    "### Ler dados Camada Silver (PT-BR)"
   ]
  },
  {
   "cell_type": "code",
   "execution_count": 0,
   "metadata": {
    "application/vnd.databricks.v1+cell": {
     "cellMetadata": {
      "byteLimit": 2048000,
      "rowLimit": 10000
     },
     "inputWidgets": {},
     "nuid": "168a4bf3-63be-47d6-b41d-425d50a7aea3",
     "showTitle": false,
     "tableResultSettingsMap": {},
     "title": ""
    }
   },
   "outputs": [],
   "source": [
    "df_silver = spark.read.format(\"parquet\").load(silver_path)"
   ]
  },
  {
   "cell_type": "markdown",
   "metadata": {
    "application/vnd.databricks.v1+cell": {
     "cellMetadata": {
      "byteLimit": 2048000,
      "rowLimit": 10000
     },
     "inputWidgets": {},
     "nuid": "b076bc6b-d0f1-44ad-8060-b66c393ab3f9",
     "showTitle": false,
     "tableResultSettingsMap": {},
     "title": ""
    }
   },
   "source": [
    "### Create database layer_gold\n",
    "### Criar banco de dados camada_gold (PT-BR)"
   ]
  },
  {
   "cell_type": "code",
   "execution_count": 0,
   "metadata": {
    "application/vnd.databricks.v1+cell": {
     "cellMetadata": {
      "byteLimit": 2048000,
      "implicitDf": true,
      "rowLimit": 10000
     },
     "inputWidgets": {},
     "nuid": "518680bb-ffff-4a06-bb3d-49b612979ab3",
     "showTitle": false,
     "tableResultSettingsMap": {},
     "title": ""
    }
   },
   "outputs": [
    {
     "output_type": "display_data",
     "data": {
      "text/html": [
       "<style scoped>\n",
       "  .table-result-container {\n",
       "    max-height: 300px;\n",
       "    overflow: auto;\n",
       "  }\n",
       "  table, th, td {\n",
       "    border: 1px solid black;\n",
       "    border-collapse: collapse;\n",
       "  }\n",
       "  th, td {\n",
       "    padding: 5px;\n",
       "  }\n",
       "  th {\n",
       "    text-align: left;\n",
       "  }\n",
       "</style><div class='table-result-container'><table class='table-result'><thead style='background-color: white'><tr></tr></thead><tbody></tbody></table></div>"
      ]
     },
     "metadata": {
      "application/vnd.databricks.v1+output": {
       "addedWidgets": {},
       "aggData": [],
       "aggError": "",
       "aggOverflow": false,
       "aggSchema": [],
       "aggSeriesLimitReached": false,
       "aggType": "",
       "arguments": {},
       "columnCustomDisplayInfos": {},
       "data": [],
       "datasetInfos": [],
       "dbfsResultPath": null,
       "isJsonSchema": true,
       "metadata": {},
       "overflow": false,
       "plotOptions": {
        "customPlotOptions": {},
        "displayType": "table",
        "pivotAggregation": null,
        "pivotColumns": null,
        "xColumns": null,
        "yColumns": null
       },
       "removedWidgets": [],
       "schema": [],
       "type": "table"
      }
     },
     "output_type": "display_data"
    }
   ],
   "source": [
    "%sql\n",
    "CREATE DATABASE IF NOT EXISTS LAYER_GOLD;\n"
   ]
  },
  {
   "cell_type": "markdown",
   "metadata": {
    "application/vnd.databricks.v1+cell": {
     "cellMetadata": {
      "byteLimit": 2048000,
      "rowLimit": 10000
     },
     "inputWidgets": {},
     "nuid": "ae2901bb-159e-4c49-a35a-5794d4147069",
     "showTitle": false,
     "tableResultSettingsMap": {},
     "title": ""
    }
   },
   "source": [
    "### Creation of DIM_TIME\n",
    "### Criação da DIM_TEMPO (PT-BR)"
   ]
  },
  {
   "cell_type": "code",
   "execution_count": 0,
   "metadata": {
    "application/vnd.databricks.v1+cell": {
     "cellMetadata": {
      "byteLimit": 2048000,
      "rowLimit": 10000
     },
     "inputWidgets": {},
     "nuid": "2cd61be0-b1b8-4087-bbce-48a15691d94a",
     "showTitle": false,
     "tableResultSettingsMap": {},
     "title": ""
    }
   },
   "outputs": [],
   "source": [
    "from pyspark.sql.window import Window\n",
    "from pyspark.sql.functions import row_number \n",
    "\n",
    "window_tempo = Window.orderBy(\"DATA_OCORRENCIA\", \"HORARIO\")\n",
    "\n",
    "dim_tempo = df_silver.select(\"ID\",\"DATA_OCORRENCIA\", \"DIA\", \"DIA_SEMANA\", \"HORARIO\", \"ANO\", \"MES\").distinct() \\\n",
    "    .withColumn(\"SK_TEMPO\", row_number().over(window_tempo))\n",
    "\n",
    "## SAVING A TABLE IN DICE BANK, WITH SCHEME: (LAYER_GOLD.DIM_TEMPO), WITH ASSIM I CAN USE CRUD OPERAÇÕES NA SQL SYNTAX \n",
    "\n",
    "## SALVANDO A TABELA NO BANCO DE DADOS, SENDO ASSIM PODENDO ULTILIZAR OPERAÇÕES CRUD NA SYNTAX SQL (PT-BR)\n",
    "\n",
    "dim_tempo.write.format(\"delta\").mode(\"overwrite\").option(\"overwriteSchema\", \"true\").saveAsTable(\"layer_gold.dim_tempo\")\n",
    "\n",
    "### SAVING TO GOLD DIRECTORY\n",
    "### SALVANDO NO DIRETÓRIO GOLD (PT-BR)\n",
    "\n",
    "dim_tempo.write.format(\"delta\").mode(\"overwrite\").save(gold_path_tempo)"
   ]
  },
  {
   "cell_type": "markdown",
   "metadata": {
    "application/vnd.databricks.v1+cell": {
     "cellMetadata": {
      "byteLimit": 2048000,
      "rowLimit": 10000
     },
     "inputWidgets": {},
     "nuid": "bba96d39-f6e9-4971-8b77-3c9475761626",
     "showTitle": false,
     "tableResultSettingsMap": {},
     "title": ""
    }
   },
   "source": [
    "### Dimension Creation_Localization\n",
    "### Criação da Dimensão_Localização (PT-BR)"
   ]
  },
  {
   "cell_type": "code",
   "execution_count": 0,
   "metadata": {
    "application/vnd.databricks.v1+cell": {
     "cellMetadata": {
      "byteLimit": 2048000,
      "rowLimit": 10000
     },
     "inputWidgets": {},
     "nuid": "76509140-b502-48ba-9f5e-24844a45ea34",
     "showTitle": false,
     "tableResultSettingsMap": {},
     "title": ""
    }
   },
   "outputs": [],
   "source": [
    "window_local = Window.orderBy(\"UF\", \"MUNICIPIO\", \"NUM_BR\", \"KM\")\n",
    "\n",
    "dim_localizacao = df_silver.select(\"ID\" , \"UF\", \"MUNICIPIO\", \"NUM_BR\", \"KM\").distinct() \\\n",
    "    .withColumn(\"SK_LOCALIZACAO\", row_number().over(window_local))\n",
    "\n",
    "## SAVING A TABLE IN DICE BANK, WITH SCHEME: (LAYER_GOLD.DIM_TEMPO), WITH ASSIM I CAN USE CRUD OPERAÇÕES NA SQL SYNTAX \n",
    "\n",
    "## SALVANDO A TABELA NO BANCO DE DADOS, SENDO ASSIM PODENDO ULTILIZAR OPERAÇÕES CRUD NA SYNTAX SQL (PT-BR)\n",
    "\n",
    "dim_localizacao.write.format(\"delta\").mode(\"overwrite\").option(\"overwriteSchema\", \"true\").saveAsTable(\"layer_gold.dim_localizacao\")\n",
    "\n",
    "### SAVING TO GOLD DIRECTORY\n",
    "### SALVANDO NO DIRETÓRIO GOLD (PT-BR)\n",
    "\n",
    "dim_localizacao.write.format(\"delta\").mode(\"overwrite\").save(gold_path_localizacao)"
   ]
  },
  {
   "cell_type": "markdown",
   "metadata": {
    "application/vnd.databricks.v1+cell": {
     "cellMetadata": {
      "byteLimit": 2048000,
      "rowLimit": 10000
     },
     "inputWidgets": {},
     "nuid": "1842462d-3602-45ab-889b-55c8e53d24c1",
     "showTitle": false,
     "tableResultSettingsMap": {},
     "title": ""
    }
   },
   "source": [
    "### Creation of dim_orgãos\n",
    "### Criação da dim_orgãos (PT-BR)"
   ]
  },
  {
   "cell_type": "code",
   "execution_count": 0,
   "metadata": {
    "application/vnd.databricks.v1+cell": {
     "cellMetadata": {
      "byteLimit": 2048000,
      "rowLimit": 10000
     },
     "inputWidgets": {},
     "nuid": "5140696a-4139-4159-8a3a-055d38ece6b3",
     "showTitle": false,
     "tableResultSettingsMap": {},
     "title": ""
    }
   },
   "outputs": [],
   "source": [
    "\n",
    "window_orgaos = Window.orderBy(\"REGIONAL\", \"UF_REGIONAL\", \"DELEGACIA\", \"UF_DELEGACIA\", \"UOP\", \"UF_UOP\")\n",
    "\n",
    "dim_orgaos = df_silver.select(\"ID\",\"REGIONAL\", \"UF_REGIONAL\", \"DELEGACIA\", \"UF_DELEGACIA\", \"UOP\", \"UF_UOP\").distinct() \\\n",
    "    .withColumn(\"SK_ORGAOS\", row_number().over(window_orgaos))\n",
    "\n",
    "\n",
    "## SAVING A TABLE IN DICE BANK, WITH SCHEME: (LAYER_GOLD.DIM_TEMPO), WITH ASSIM I CAN USE CRUD OPERAÇÕES NA SQL SYNTAX \n",
    "## SALVANDO A TABELA NO BANCO DE DADOS, SENDO ASSIM PODENDO ULTILIZAR OPERAÇÕES CRUD NA SYNTAX SQL (PT-BR)\n",
    "\n",
    "dim_orgaos.write.format(\"delta\").mode(\"overwrite\").option(\"overwriteSchema\", \"true\").saveAsTable(\"layer_gold.dim_orgaos\")\n",
    "\n",
    "### SAVING TO GOLD DIRECTORY\n",
    "### SALVANDO NO DIRETÓRIO GOLD (PT-BR)\n",
    "\n",
    "dim_orgaos.write.format(\"delta\").mode(\"overwrite\").save(gold_path_orgaos)"
   ]
  },
  {
   "cell_type": "markdown",
   "metadata": {
    "application/vnd.databricks.v1+cell": {
     "cellMetadata": {
      "byteLimit": 2048000,
      "rowLimit": 10000
     },
     "inputWidgets": {},
     "nuid": "df8cf69d-e3fa-45f9-a2da-c9c07258e526",
     "showTitle": false,
     "tableResultSettingsMap": {},
     "title": ""
    }
   },
   "source": [
    "### Creation dim_characteristics\n",
    "### Criação dim_caracteristicas (PT-BR)"
   ]
  },
  {
   "cell_type": "code",
   "execution_count": 0,
   "metadata": {
    "application/vnd.databricks.v1+cell": {
     "cellMetadata": {
      "byteLimit": 2048000,
      "rowLimit": 10000
     },
     "inputWidgets": {},
     "nuid": "ebd8ae90-4dba-4cd1-a7e2-8ba19cd49657",
     "showTitle": false,
     "tableResultSettingsMap": {},
     "title": ""
    }
   },
   "outputs": [],
   "source": [
    "window_carac = Window.orderBy(\n",
    "    \"CAUSA_ACIDENTE\", \"TIPO_ACIDENTE\", \"CLASSIFICACAO_ACIDENTE\",\n",
    "    \"FASE_DIA\", \"SENTIDO_VIA\", \"CONDICAO_METEREOLOGICA\",\n",
    "    \"TIPO_PISTA\", \"TRACADO_VIA\", \"USOU_SOLO\" )\n",
    "\n",
    "dim_caracteristicas = df_silver.select(\n",
    "    \"ID\",\"CAUSA_ACIDENTE\", \"TIPO_ACIDENTE\", \"CLASSIFICACAO_ACIDENTE\",\n",
    "    \"FASE_DIA\", \"SENTIDO_VIA\", \"CONDICAO_METEREOLOGICA\",\n",
    "    \"TIPO_PISTA\", \"TRACADO_VIA\", \"USOU_SOLO\"\n",
    ").distinct().withColumn(\"SK_CARACTERISTICAS\", row_number().over(window_carac))\n",
    "\n",
    "## SAVING A TABLE IN DICE BANK, WITH SCHEME: (LAYER_GOLD.DIM_TEMPO), WITH ASSIM I CAN USE CRUD OPERAÇÕES NA SQL SYNTAX \n",
    "## SALVANDO A TABELA NO BANCO DE DADOS, SENDO ASSIM PODENDO ULTILIZAR OPERAÇÕES CRUD NA SYNTAX SQL (PT-BR)\n",
    "\n",
    "dim_caracteristicas.write.format(\"delta\").mode(\"overwrite\").option(\"overwriteSchema\", \"true\").saveAsTable(\"layer_gold.dim_caracteristicas\")\n",
    "\n",
    "### SAVING TO GOLD DIRECTORY\n",
    "### SALVANDO NO DIRETÓRIO GOLD (PT-BR)\n",
    "\n",
    "dim_caracteristicas.write.format(\"delta\").mode(\"overwrite\").save(gold_path_caracteristicas)\n"
   ]
  },
  {
   "cell_type": "markdown",
   "metadata": {
    "application/vnd.databricks.v1+cell": {
     "cellMetadata": {
      "byteLimit": 2048000,
      "rowLimit": 10000
     },
     "inputWidgets": {},
     "nuid": "1894f40d-60d7-46e9-bd54-69fe71351f2a",
     "showTitle": false,
     "tableResultSettingsMap": {},
     "title": ""
    }
   },
   "source": [
    "### Criação dimenssão geography\n",
    "### Criação dimenssão geografia (PT-BR)   "
   ]
  },
  {
   "cell_type": "code",
   "execution_count": 0,
   "metadata": {
    "application/vnd.databricks.v1+cell": {
     "cellMetadata": {
      "byteLimit": 2048000,
      "rowLimit": 10000
     },
     "inputWidgets": {},
     "nuid": "8f87b797-6d1e-4985-95de-176f924399dd",
     "showTitle": false,
     "tableResultSettingsMap": {},
     "title": ""
    }
   },
   "outputs": [],
   "source": [
    "window_geo = Window.orderBy(\"LATITUDE\", \"LONGITUDE\")\n",
    "\n",
    "dim_geo = df_silver.select(\"ID\",\"LATITUDE\", \"LONGITUDE\").distinct() \\\n",
    "    .withColumn(\"SK_GEO\", row_number().over(window_geo))\n",
    "\n",
    "## SAVING A TABLE IN DICE BANK, WITH SCHEME: (LAYER_GOLD.DIM_TEMPO), WITH ASSIM I CAN USE CRUD OPERAÇÕES NA SQL SYNTAX \n",
    "## SALVANDO A TABELA NO BANCO DE DADOS, SENDO ASSIM PODENDO ULTILIZAR OPERAÇÕES CRUD NA SYNTAX SQL (PT-BR)\n",
    "\n",
    "dim_geo.write.format(\"delta\").mode(\"overwrite\").option(\"overwriteSchema\", \"true\").saveAsTable(\"layer_gold.dim_geo\")\n",
    "\n",
    "### SAVING TO GOLD DIRECTORY\n",
    "### SALVANDO NO DIRETÓRIO GOLD (PT-BR)\n",
    "\n",
    "dim_geo.write.format(\"delta\").mode(\"overwrite\").save(gold_path_geo)\n"
   ]
  },
  {
   "cell_type": "markdown",
   "metadata": {
    "application/vnd.databricks.v1+cell": {
     "cellMetadata": {
      "byteLimit": 2048000,
      "rowLimit": 10000
     },
     "inputWidgets": {},
     "nuid": "6e968b9e-9e40-47bd-8dd3-8a9682fa7799",
     "showTitle": false,
     "tableResultSettingsMap": {},
     "title": ""
    }
   },
   "source": [
    "### Accidental Creation\n",
    "### Criação fato acidente (PT-BR) "
   ]
  },
  {
   "cell_type": "code",
   "execution_count": 0,
   "metadata": {
    "application/vnd.databricks.v1+cell": {
     "cellMetadata": {
      "byteLimit": 2048000,
      "rowLimit": 10000
     },
     "inputWidgets": {},
     "nuid": "c8b3ed14-44a3-44f8-a874-133ed6f78384",
     "showTitle": false,
     "tableResultSettingsMap": {},
     "title": ""
    }
   },
   "outputs": [],
   "source": [
    "from pyspark.sql.functions import col\n",
    "\n",
    "fato_acidentes = (\n",
    "    df_silver\n",
    "    .join(dim_tempo.select('ID', 'SK_TEMPO'), on='ID', how='left')\n",
    "    .join(dim_localizacao.select('ID', 'SK_LOCALIZACAO'), on='ID', how='left')\n",
    "    .join(dim_orgaos.select('ID', 'SK_ORGAOS'), on='ID', how='left')\n",
    "    .join(dim_caracteristicas.select('ID', 'SK_CARACTERISTICAS'), on='ID', how='left')\n",
    "    .join(dim_geo.select('ID', 'SK_GEO'), on='ID', how='left')\n",
    "    .select(\n",
    "        col('ID').alias('ID_OCORRENCIA'),\n",
    "        'SK_TEMPO',\n",
    "        'SK_LOCALIZACAO',\n",
    "        'SK_ORGAOS',\n",
    "        'SK_CARACTERISTICAS',\n",
    "        'SK_GEO',\n",
    "        'QTD_VEICULOS',\n",
    "        'QTD_FERIDOS',\n",
    "        'QTD_IGNORADOS',\n",
    "        'QTD_ILESOS',\n",
    "        'QTD_FERIDOS_GRAVES',\n",
    "        'QTD_FERIDOS_LEVES',\n",
    "        'QTD_MORTOS',\n",
    "        'QTD_PESSOAS'\n",
    "    \n",
    "    )\n",
    ")\n",
    "\n",
    "## SAVING A TABLE IN DICE BANK, WITH SCHEME: (LAYER_GOLD.DIM_TEMPO), WITH ASSIM I CAN USE CRUD OPERAÇÕES NA SQL SYNTAX \n",
    "## SALVANDO A TABELA NO BANCO DE DADOS, SENDO ASSIM PODENDO ULTILIZAR OPERAÇÕES CRUD NA SYNTAX SQL (PT-BR)\n",
    "\n",
    "fato_acidentes.write.format(\"delta\").mode(\"overwrite\").option(\"overwriteSchema\", \"true\").saveAsTable(\"layer_gold.FATO_ACIDENTES\")\n",
    "\n",
    "### SAVING TO GOLD DIRECTORY\n",
    "### SALVANDO NO DIRETÓRIO GOLD (PT-BR)\n",
    "\n",
    "fato_acidentes.write.format(\"delta\").mode(\"overwrite\").save(gold_path_fato)"
   ]
  },
  {
   "cell_type": "markdown",
   "metadata": {
    "application/vnd.databricks.v1+cell": {
     "cellMetadata": {
      "byteLimit": 2048000,
      "rowLimit": 10000
     },
     "inputWidgets": {},
     "nuid": "c47ecd5e-a69c-490b-9dc0-52c5ef5762aa",
     "showTitle": false,
     "tableResultSettingsMap": {},
     "title": ""
    }
   },
   "source": [
    "### Memory Cleanup\n",
    "### Limpeza de Memória (PT-BR)"
   ]
  },
  {
   "cell_type": "code",
   "execution_count": 0,
   "metadata": {
    "application/vnd.databricks.v1+cell": {
     "cellMetadata": {
      "byteLimit": 2048000,
      "rowLimit": 10000
     },
     "inputWidgets": {},
     "nuid": "27462067-a7da-4f34-b982-e310dc50e3f0",
     "showTitle": false,
     "tableResultSettingsMap": {},
     "title": ""
    }
   },
   "outputs": [],
   "source": [
    "import gc\n",
    "\n",
    "gc.collect()\n",
    "\n",
    "spark.catalog.clearCache()"
   ]
  },
  {
   "cell_type": "markdown",
   "metadata": {
    "application/vnd.databricks.v1+cell": {
     "cellMetadata": {
      "byteLimit": 2048000,
      "rowLimit": 10000
     },
     "inputWidgets": {},
     "nuid": "1cd6a30c-3006-45e9-a214-804f6585fc90",
     "showTitle": false,
     "tableResultSettingsMap": {},
     "title": ""
    }
   },
   "source": [
    "###Evidence of Charge in the Gold Layer (Delta)\n",
    "###Evidências de Carga na Camada Gold (Delta)  (PT-BR)"
   ]
  },
  {
   "cell_type": "code",
   "execution_count": 0,
   "metadata": {
    "application/vnd.databricks.v1+cell": {
     "cellMetadata": {
      "byteLimit": 2048000,
      "rowLimit": 10000
     },
     "inputWidgets": {},
     "nuid": "e0e27062-e5d1-43ee-a2b7-b3cf8fe1bd23",
     "showTitle": false,
     "tableResultSettingsMap": {},
     "title": ""
    }
   },
   "outputs": [
    {
     "output_type": "display_data",
     "data": {
      "text/html": [
       "<style scoped>\n",
       "  .table-result-container {\n",
       "    max-height: 300px;\n",
       "    overflow: auto;\n",
       "  }\n",
       "  table, th, td {\n",
       "    border: 1px solid black;\n",
       "    border-collapse: collapse;\n",
       "  }\n",
       "  th, td {\n",
       "    padding: 5px;\n",
       "  }\n",
       "  th {\n",
       "    text-align: left;\n",
       "  }\n",
       "</style><div class='table-result-container'><table class='table-result'><thead style='background-color: white'><tr><th>path</th><th>name</th><th>size</th><th>modificationTime</th></tr></thead><tbody><tr><td>dbfs:/mnt/lhdw/layer_gold/dim_Localizacao/</td><td>dim_Localizacao/</td><td>0</td><td>0</td></tr><tr><td>dbfs:/mnt/lhdw/layer_gold/dim_caracteristicas/</td><td>dim_caracteristicas/</td><td>0</td><td>0</td></tr><tr><td>dbfs:/mnt/lhdw/layer_gold/dim_geo/</td><td>dim_geo/</td><td>0</td><td>0</td></tr><tr><td>dbfs:/mnt/lhdw/layer_gold/dim_orgaos/</td><td>dim_orgaos/</td><td>0</td><td>0</td></tr><tr><td>dbfs:/mnt/lhdw/layer_gold/dim_tempo/</td><td>dim_tempo/</td><td>0</td><td>0</td></tr><tr><td>dbfs:/mnt/lhdw/layer_gold/fato_acidentes/</td><td>fato_acidentes/</td><td>0</td><td>0</td></tr></tbody></table></div>"
      ]
     },
     "metadata": {
      "application/vnd.databricks.v1+output": {
       "addedWidgets": {},
       "aggData": [],
       "aggError": "",
       "aggOverflow": false,
       "aggSchema": [],
       "aggSeriesLimitReached": false,
       "aggType": "",
       "arguments": {},
       "columnCustomDisplayInfos": {},
       "data": [
        [
         "dbfs:/mnt/lhdw/layer_gold/dim_Localizacao/",
         "dim_Localizacao/",
         0,
         0
        ],
        [
         "dbfs:/mnt/lhdw/layer_gold/dim_caracteristicas/",
         "dim_caracteristicas/",
         0,
         0
        ],
        [
         "dbfs:/mnt/lhdw/layer_gold/dim_geo/",
         "dim_geo/",
         0,
         0
        ],
        [
         "dbfs:/mnt/lhdw/layer_gold/dim_orgaos/",
         "dim_orgaos/",
         0,
         0
        ],
        [
         "dbfs:/mnt/lhdw/layer_gold/dim_tempo/",
         "dim_tempo/",
         0,
         0
        ],
        [
         "dbfs:/mnt/lhdw/layer_gold/fato_acidentes/",
         "fato_acidentes/",
         0,
         0
        ]
       ],
       "datasetInfos": [],
       "dbfsResultPath": null,
       "isJsonSchema": true,
       "metadata": {
        "isDbfsCommandResult": false
       },
       "overflow": false,
       "plotOptions": {
        "customPlotOptions": {},
        "displayType": "table",
        "pivotAggregation": null,
        "pivotColumns": null,
        "xColumns": null,
        "yColumns": null
       },
       "removedWidgets": [],
       "schema": [
        {
         "metadata": "{}",
         "name": "path",
         "type": "\"string\""
        },
        {
         "metadata": "{}",
         "name": "name",
         "type": "\"string\""
        },
        {
         "metadata": "{}",
         "name": "size",
         "type": "\"long\""
        },
        {
         "metadata": "{}",
         "name": "modificationTime",
         "type": "\"long\""
        }
       ],
       "type": "table"
      }
     },
     "output_type": "display_data"
    }
   ],
   "source": [
    "%fs ls mnt/lhdw/layer_gold/ "
   ]
  }
 ],
 "metadata": {
  "application/vnd.databricks.v1+notebook": {
   "computePreferences": null,
   "dashboards": [],
   "environmentMetadata": null,
   "inputWidgetPreferences": null,
   "language": "python",
   "notebookMetadata": {
    "mostRecentlyExecutedCommandWithImplicitDF": {
     "commandId": 4338771034993268,
     "dataframes": [
      "_sqldf"
     ]
    },
    "pythonIndentUnit": 4
   },
   "notebookName": "003 Load Gold Delta - Carregar Ouro Delta (PT-BR)",
   "widgets": {}
  }
 },
 "nbformat": 4,
 "nbformat_minor": 0
}