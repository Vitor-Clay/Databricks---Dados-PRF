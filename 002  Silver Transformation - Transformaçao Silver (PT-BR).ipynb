{
 "cells": [
  {
   "cell_type": "markdown",
   "metadata": {
    "application/vnd.databricks.v1+cell": {
     "cellMetadata": {
      "byteLimit": 2048000,
      "rowLimit": 10000
     },
     "inputWidgets": {},
     "nuid": "3caa998b-5401-4878-b294-264ad3bf81fd",
     "showTitle": false,
     "tableResultSettingsMap": {},
     "title": ""
    }
   },
   "source": [
    "### Silver Layer: Cleansing and Transformation\n",
    "normalize data in the Silver tier. Use partitioning to improve read and write performance.\n",
    "\n",
    "### Camada Silver: Limpeza e Transformação\n",
    "normalizar os dados na camada Silver. Use particionamento para melhorar o desempenho de leitura e escrita (PT-BR)"
   ]
  },
  {
   "cell_type": "code",
   "execution_count": 0,
   "metadata": {
    "application/vnd.databricks.v1+cell": {
     "cellMetadata": {
      "byteLimit": 2048000,
      "rowLimit": 10000
     },
     "inputWidgets": {},
     "nuid": "a3daebde-3a42-44b5-b92e-c37806f66510",
     "showTitle": false,
     "tableResultSettingsMap": {},
     "title": ""
    }
   },
   "outputs": [],
   "source": [
    "# Import the required libraries\n",
    "# Importar as bibliotecas necessárias\n",
    "\n",
    "from pyspark.sql import SparkSession\n",
    "from pyspark.sql.functions import *\n",
    "from pyspark.sql.types import *\n",
    "\n",
    "spark = SparkSession.builder \\\n",
    "    .appName(\"Transformação Data Silver\") \\\n",
    "    .config(\"spark.sql.shuffle.partitions\", \"200\")  \\\n",
    "    .config(\"spark.sql.files.maxPartitionBytes\", \"128MB\") \\\n",
    "    .config(\"spark.sql.parquet.compression.codec\", \"snappy\") \\\n",
    "    .config(\"spark.sql.adaptive.enabled\", \"true\") \\\n",
    "    .getOrCreate()\n",
    "\n",
    "# Sets a fixed number of partitions to shuffle, improving parallelism\n",
    "# Sets the maximum partition size to avoid too many small files\n",
    "# Uses the Snappy codec for fast compression, optimizing read and write times\n",
    "# Enables adaptive optimizations, adjusting the number of partitions dynamically based on data size\n",
    "\n",
    "\n",
    "# Define um número fixo de partições para shuffle, melhorando o paralelismo                 \n",
    "# Define o tamanho máximo de partições para evitar muitos arquivos pequenos        \n",
    "# Usa o codec Snappy para compressão rápida, otimizando tempo de leitura e escrita    \n",
    "# Habilita otimizações adaptativas, ajustando o número de partições dinamicamente com base no tamanho dos dados\n",
    "\n",
    "# Definir caminhos de armazenamento no Data Lake\n",
    "# Ler dados na Bronze e Armazenar Silver (PT-BR)\n",
    "\n",
    "bronze_path = \"/mnt/lhdw/layer_bronze/detran2025\"\n",
    "silver_path = \"/mnt/lhdw/layer_silver/detran2025\"\n"
   ]
  },
  {
   "cell_type": "markdown",
   "metadata": {
    "application/vnd.databricks.v1+cell": {
     "cellMetadata": {
      "byteLimit": 2048000,
      "rowLimit": 10000
     },
     "inputWidgets": {},
     "nuid": "c06a0cea-1671-4aa8-9585-1f675d62c053",
     "showTitle": false,
     "tableResultSettingsMap": {},
     "title": ""
    }
   },
   "source": [
    "###Read data from Bronze layer for transformation into Silver layer\n",
    "###Ler o dados da camada Bronze para transformação na camada Silver (PT-BR)"
   ]
  },
  {
   "cell_type": "code",
   "execution_count": 0,
   "metadata": {
    "application/vnd.databricks.v1+cell": {
     "cellMetadata": {
      "byteLimit": 2048000,
      "rowLimit": 10000
     },
     "inputWidgets": {},
     "nuid": "f7a6dd23-e28a-47cf-8218-47efd637c883",
     "showTitle": false,
     "tableResultSettingsMap": {},
     "title": ""
    }
   },
   "outputs": [],
   "source": [
    "# Read data from Bronze layer\n",
    "# Ler dados da camada Bronze (PT-BR)\n",
    "\n",
    "df_bronze = spark.read.format(\"parquet\").load(bronze_path)"
   ]
  },
  {
   "cell_type": "markdown",
   "metadata": {
    "application/vnd.databricks.v1+cell": {
     "cellMetadata": {
      "byteLimit": 2048000,
      "rowLimit": 10000
     },
     "inputWidgets": {},
     "nuid": "011574e6-f5d3-47dd-9213-3f3313e69154",
     "showTitle": false,
     "tableResultSettingsMap": {},
     "title": ""
    }
   },
   "source": [
    "## Adding the silver_ingestion column for data control and traceability\n",
    "## Adicionando a coluna silver_ingestion para controle e rastreabilidade dos dados (PT-BR)"
   ]
  },
  {
   "cell_type": "code",
   "execution_count": 0,
   "metadata": {
    "application/vnd.databricks.v1+cell": {
     "cellMetadata": {
      "byteLimit": 2048000,
      "rowLimit": 10000
     },
     "inputWidgets": {},
     "nuid": "97871ca8-2a19-4830-a67b-ec458e2f8b3f",
     "showTitle": false,
     "tableResultSettingsMap": {},
     "title": ""
    }
   },
   "outputs": [],
   "source": [
    "df_bronze = df_bronze.withColumn('silver_ingestion' , current_timestamp())"
   ]
  },
  {
   "cell_type": "markdown",
   "metadata": {
    "application/vnd.databricks.v1+cell": {
     "cellMetadata": {
      "byteLimit": 2048000,
      "rowLimit": 10000
     },
     "inputWidgets": {},
     "nuid": "b7ab8a02-025f-4357-9b14-557a16b8493b",
     "showTitle": false,
     "tableResultSettingsMap": {},
     "title": ""
    }
   },
   "source": [
    "## creating a temp view for data processing\n",
    "## criando um temp view para tratamento de dados"
   ]
  },
  {
   "cell_type": "code",
   "execution_count": 0,
   "metadata": {
    "application/vnd.databricks.v1+cell": {
     "cellMetadata": {
      "byteLimit": 2048000,
      "rowLimit": 10000
     },
     "inputWidgets": {},
     "nuid": "37dffa99-c43b-47c7-9f09-3817eeea3d9b",
     "showTitle": false,
     "tableResultSettingsMap": {},
     "title": ""
    }
   },
   "outputs": [],
   "source": [
    "df_bronze.createOrReplaceTempView(\"detran\")"
   ]
  },
  {
   "cell_type": "markdown",
   "metadata": {
    "application/vnd.databricks.v1+cell": {
     "cellMetadata": {
      "byteLimit": 2048000,
      "rowLimit": 10000
     },
     "inputWidgets": {},
     "nuid": "ab738048-39c7-407d-bc66-7924f621ad24",
     "showTitle": false,
     "tableResultSettingsMap": {},
     "title": ""
    }
   },
   "source": [
    "### Data Cleaning\n",
    "Data cleaning is a crucial process for ensuring data quality. It involves removing duplicate or incorrect data, standardizing data formats and values, and enriching data with additional information. In addition, it is important to check for and correct quality issues such as errors and inconsistencies to ensure that the data is accurate and reliable.\n",
    "\n",
    "### Limpeza dos dados\n",
    "A limpeza de dados é um processo crucial para garantir a qualidade dos dados. Isso envolve a remoção de dados duplicados ou incorretos, a padronização de formatos e valores de dados e o enriquecimento de dados com informações adicionais. Além disso, é importante verificar e corrigir problemas de qualidade, como erros e inconsistências, para garantir que os dados sejam precisos e confiáveis. (PT-BR)"
   ]
  },
  {
   "cell_type": "code",
   "execution_count": 0,
   "metadata": {
    "application/vnd.databricks.v1+cell": {
     "cellMetadata": {
      "byteLimit": 2048000,
      "rowLimit": 10000
     },
     "inputWidgets": {},
     "nuid": "a2b10fb0-ee15-4579-8e1b-e0383c7e6108",
     "showTitle": false,
     "tableResultSettingsMap": {},
     "title": ""
    }
   },
   "outputs": [],
   "source": [
    "df_silver = spark.sql(\"\"\"\n",
    "SELECT DISTINCT\n",
    "  id AS ID,\n",
    "  data_inversa AS DATA_OCORRENCIA,\n",
    "  upper(ANO) AS ANO,\n",
    "  UPPER(Mes) AS MES, \n",
    "  SPLIT(DATA_INVERSA, '-')[2] AS DIA,\n",
    "  UPPER(dia_semana) AS DIA_SEMANA,\n",
    "  horario AS HORARIO,\n",
    "  uf AS UF,\n",
    "  br AS NUM_BR,\n",
    "  km AS KM,\n",
    "  municipio AS MUNICIPIO,\n",
    "  UPPER(causa_acidente) AS CAUSA_ACIDENTE,\n",
    "  UPPER(tipo_acidente) AS TIPO_ACIDENTE,\n",
    "  UPPER(classificacao_acidente) AS CLASSIFICACAO_ACIDENTE,\n",
    "  UPPER(fase_dia) AS FASE_DIA,\n",
    "  UPPER(sentido_via) AS SENTIDO_VIA,\n",
    "  UPPER(condicao_metereologica) AS CONDICAO_METEREOLOGICA,\n",
    "  UPPER(tipo_pista) AS TIPO_PISTA,\n",
    "  UPPER(REGEXP_REPLACE(tracado_via, ';', '-')) AS TRACADO_VIA,\n",
    "  UPPER(uso_solo) AS USOU_SOLO,\n",
    "  pessoas AS QTD_PESSOAS,\n",
    "  mortos AS QTD_MORTOS,\n",
    "  feridos_leves AS QTD_FERIDOS_LEVES,\n",
    "  feridos_graves AS QTD_FERIDOS_GRAVES,\n",
    "  ilesos AS QTD_ILESOS,\n",
    "  ignorados AS QTD_IGNORADOS,\n",
    "  feridos AS QTD_FERIDOS,\n",
    "  veiculos AS QTD_VEICULOS,\n",
    "  SPLIT(regional, '-')[0] AS REGIONAL,\n",
    "  SPLIT(regional, '-')[1] AS UF_REGIONAL,\n",
    "  SPLIT(DELEGACIA, '-')[0] AS DELEGACIA,\n",
    "  SPLIT(delegacia, '-')[1] AS UF_DELEGACIA,\n",
    "  SPLIT(UOP, '-')[0] AS UOP, \n",
    "  SPLIT(UOP, '-')[2] AS UF_UOP,\n",
    "  latitude AS LATITUDE,\n",
    "  longitude AS LONGITUDE,\n",
    "  bronze_ingestion AS BRONZE_INGESTION,\n",
    "  silver_ingestion AS SILVER_INGESTION\n",
    "FROM detran\n",
    "\"\"\")\n"
   ]
  },
  {
   "cell_type": "markdown",
   "metadata": {
    "application/vnd.databricks.v1+cell": {
     "cellMetadata": {
      "byteLimit": 2048000,
      "rowLimit": 10000
     },
     "inputWidgets": {},
     "nuid": "8cf23d72-1bec-4936-8613-9cd6b1418516",
     "showTitle": false,
     "tableResultSettingsMap": {},
     "title": ""
    }
   },
   "source": [
    "### Write Silver Transformations\n",
    "Partitioning by year and month to optimize date-based queries, with recommended file size in Parquet format\n",
    "\n",
    "### Gravar transformações Silver\n",
    "Particionamento por ano e mês para otimizar consultas baseadas em data, com recomendação de tamanho de arquivo em formato Parquet (PT-BR)"
   ]
  },
  {
   "cell_type": "code",
   "execution_count": 0,
   "metadata": {
    "application/vnd.databricks.v1+cell": {
     "cellMetadata": {
      "byteLimit": 2048000,
      "rowLimit": 10000
     },
     "inputWidgets": {},
     "nuid": "d3648e62-adc3-423d-b244-aec7bd3baa2a",
     "showTitle": false,
     "tableResultSettingsMap": {},
     "title": ""
    }
   },
   "outputs": [],
   "source": [
    "# Salva particionado por Ano e Mes\n",
    "df_silver.write \\\n",
    "    .option(\"maxRecordsPerFile\", 50000) \\\n",
    "    .partitionBy(\"Ano\", \"Mes\") \\\n",
    "    .format(\"parquet\") \\\n",
    "    .mode(\"overwrite\") \\\n",
    "    .save(silver_path)\n"
   ]
  },
  {
   "cell_type": "markdown",
   "metadata": {
    "application/vnd.databricks.v1+cell": {
     "cellMetadata": {
      "byteLimit": 2048000,
      "rowLimit": 10000
     },
     "inputWidgets": {},
     "nuid": "a0749c98-e871-4317-9086-147e0de58de2",
     "showTitle": false,
     "tableResultSettingsMap": {},
     "title": ""
    }
   },
   "source": [
    "## Evidence of data in the Silver layer\n",
    "## Evidência dos dados na camada Silver (PT-BR)."
   ]
  },
  {
   "cell_type": "code",
   "execution_count": 0,
   "metadata": {
    "application/vnd.databricks.v1+cell": {
     "cellMetadata": {
      "byteLimit": 2048000,
      "rowLimit": 10000
     },
     "inputWidgets": {},
     "nuid": "b098bc74-729c-4b0a-a127-dab62a8e4844",
     "showTitle": false,
     "tableResultSettingsMap": {},
     "title": ""
    }
   },
   "outputs": [
    {
     "output_type": "display_data",
     "data": {
      "text/html": [
       "<style scoped>\n",
       "  .table-result-container {\n",
       "    max-height: 300px;\n",
       "    overflow: auto;\n",
       "  }\n",
       "  table, th, td {\n",
       "    border: 1px solid black;\n",
       "    border-collapse: collapse;\n",
       "  }\n",
       "  th, td {\n",
       "    padding: 5px;\n",
       "  }\n",
       "  th {\n",
       "    text-align: left;\n",
       "  }\n",
       "</style><div class='table-result-container'><table class='table-result'><thead style='background-color: white'><tr><th>path</th><th>name</th><th>size</th><th>modificationTime</th></tr></thead><tbody><tr><td>dbfs:/mnt/lhdw/layer_silver/detran2025/Ano=2025/</td><td>Ano=2025/</td><td>0</td><td>0</td></tr><tr><td>dbfs:/mnt/lhdw/layer_silver/detran2025/_SUCCESS</td><td>_SUCCESS</td><td>0</td><td>1747791255000</td></tr><tr><td>dbfs:/mnt/lhdw/layer_silver/detran2025/_committed_7547434564006332486</td><td>_committed_7547434564006332486</td><td>35</td><td>1747542432000</td></tr></tbody></table></div>"
      ]
     },
     "metadata": {
      "application/vnd.databricks.v1+output": {
       "addedWidgets": {},
       "aggData": [],
       "aggError": "",
       "aggOverflow": false,
       "aggSchema": [],
       "aggSeriesLimitReached": false,
       "aggType": "",
       "arguments": {},
       "columnCustomDisplayInfos": {},
       "data": [
        [
         "dbfs:/mnt/lhdw/layer_silver/detran2025/Ano=2025/",
         "Ano=2025/",
         0,
         0
        ],
        [
         "dbfs:/mnt/lhdw/layer_silver/detran2025/_SUCCESS",
         "_SUCCESS",
         0,
         1747791255000
        ],
        [
         "dbfs:/mnt/lhdw/layer_silver/detran2025/_committed_7547434564006332486",
         "_committed_7547434564006332486",
         35,
         1747542432000
        ]
       ],
       "datasetInfos": [],
       "dbfsResultPath": null,
       "isJsonSchema": true,
       "metadata": {
        "isDbfsCommandResult": false
       },
       "overflow": false,
       "plotOptions": {
        "customPlotOptions": {},
        "displayType": "table",
        "pivotAggregation": null,
        "pivotColumns": null,
        "xColumns": null,
        "yColumns": null
       },
       "removedWidgets": [],
       "schema": [
        {
         "metadata": "{}",
         "name": "path",
         "type": "\"string\""
        },
        {
         "metadata": "{}",
         "name": "name",
         "type": "\"string\""
        },
        {
         "metadata": "{}",
         "name": "size",
         "type": "\"long\""
        },
        {
         "metadata": "{}",
         "name": "modificationTime",
         "type": "\"long\""
        }
       ],
       "type": "table"
      }
     },
     "output_type": "display_data"
    }
   ],
   "source": [
    "%fs ls /mnt/lhdw/layer_silver/detran2025"
   ]
  },
  {
   "cell_type": "code",
   "execution_count": 0,
   "metadata": {
    "application/vnd.databricks.v1+cell": {
     "cellMetadata": {
      "byteLimit": 2048000,
      "rowLimit": 10000
     },
     "inputWidgets": {},
     "nuid": "e23b31c2-89b5-461c-8ad1-9a12f43caff7",
     "showTitle": false,
     "tableResultSettingsMap": {},
     "title": ""
    }
   },
   "outputs": [
    {
     "output_type": "stream",
     "name": "stdout",
     "output_type": "stream",
     "text": [
      "Out[7]: 16715"
     ]
    }
   ],
   "source": [
    "#Record count\n",
    "#Contagem de registros\n",
    "\n",
    "df_silver.count()"
   ]
  },
  {
   "cell_type": "markdown",
   "metadata": {
    "application/vnd.databricks.v1+cell": {
     "cellMetadata": {
      "byteLimit": 2048000,
      "rowLimit": 10000
     },
     "inputWidgets": {},
     "nuid": "44a2fe68-d244-4010-a424-893569c8d53f",
     "showTitle": false,
     "tableResultSettingsMap": {},
     "title": ""
    }
   },
   "source": [
    "%md\n",
    "\n",
    "**Justification for partitioning:**\n",
    "\n",
    "partitionBy(\"Year\", \"Month\"): Partitioning data by the Year and Month columns helps optimize reading when we want to filter or query data based on specific periods. This reduces the number of files scanned in queries, improving performance.\n",
    "\n",
    "**Justificativa para particionamento:**\n",
    "\n",
    "partitionBy(\"Ano\", \"Mes\"): Particionar os dados pelas coluna Ano e Mês ajuda a otimizar a leitura quando queremos filtrar ou consultar dados baseados em periodos específicos. Isso reduz o número de arquivos escaneados em consultas, melhorando a performance (PT-BR).\n",
    "\n"
   ]
  },
  {
   "cell_type": "markdown",
   "metadata": {
    "application/vnd.databricks.v1+cell": {
     "cellMetadata": {
      "byteLimit": 2048000,
      "rowLimit": 10000
     },
     "inputWidgets": {},
     "nuid": "0fada7e8-ddab-4f97-8f58-247a5347d3fc",
     "showTitle": false,
     "tableResultSettingsMap": {},
     "title": ""
    }
   },
   "source": [
    "### Clearing Memory\n",
    "### Limpando a Memória (PT-BR)"
   ]
  },
  {
   "cell_type": "code",
   "execution_count": 0,
   "metadata": {
    "application/vnd.databricks.v1+cell": {
     "cellMetadata": {
      "byteLimit": 2048000,
      "rowLimit": 10000
     },
     "inputWidgets": {},
     "nuid": "214ea1fd-fa29-41cd-b06f-8f6a12e94809",
     "showTitle": false,
     "tableResultSettingsMap": {},
     "title": ""
    }
   },
   "outputs": [
    {
     "output_type": "stream",
     "name": "stdout",
     "output_type": "stream",
     "text": [
      "Out[8]: 285"
     ]
    }
   ],
   "source": [
    "import gc\n",
    "gc.collect()"
   ]
  },
  {
   "cell_type": "code",
   "execution_count": 0,
   "metadata": {
    "application/vnd.databricks.v1+cell": {
     "cellMetadata": {
      "byteLimit": 2048000,
      "rowLimit": 10000
     },
     "inputWidgets": {},
     "nuid": "764618d7-5ece-43fa-bb80-dd73179a2c29",
     "showTitle": false,
     "tableResultSettingsMap": {},
     "title": ""
    }
   },
   "outputs": [],
   "source": [
    "del df_bronze\n",
    "del df_silver"
   ]
  }
 ],
 "metadata": {
  "application/vnd.databricks.v1+notebook": {
   "computePreferences": null,
   "dashboards": [],
   "environmentMetadata": null,
   "inputWidgetPreferences": null,
   "language": "python",
   "notebookMetadata": {
    "mostRecentlyExecutedCommandWithImplicitDF": {
     "commandId": 1087933155564372,
     "dataframes": [
      "_sqldf"
     ]
    },
    "pythonIndentUnit": 4
   },
   "notebookName": "002  Silver Transformation - Transformaçao Silver (PT-BR)",
   "widgets": {}
  }
 },
 "nbformat": 4,
 "nbformat_minor": 0
}